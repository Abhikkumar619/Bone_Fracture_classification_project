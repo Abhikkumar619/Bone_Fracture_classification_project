{
 "cells": [
  {
   "cell_type": "code",
   "execution_count": 30,
   "metadata": {},
   "outputs": [],
   "source": [
    "import os\n",
    "os.getcwd()\n",
    "os.chdir(\"../\")"
   ]
  },
  {
   "cell_type": "code",
   "execution_count": 33,
   "metadata": {},
   "outputs": [
    {
     "ename": "FileNotFoundError",
     "evalue": "[Errno 2] No such file or directory: '/Users/abishekkumaryadav/DataScience/computer_vision/bone_classifier'",
     "output_type": "error",
     "traceback": [
      "\u001b[0;31m---------------------------------------------------------------------------\u001b[0m",
      "\u001b[0;31mFileNotFoundError\u001b[0m                         Traceback (most recent call last)",
      "Cell \u001b[0;32mIn[33], line 1\u001b[0m\n\u001b[0;32m----> 1\u001b[0m \u001b[43mos\u001b[49m\u001b[38;5;241;43m.\u001b[39;49m\u001b[43mchdir\u001b[49m\u001b[43m(\u001b[49m\u001b[38;5;124;43m\"\u001b[39;49m\u001b[38;5;124;43m/Users/abishekkumaryadav/DataScience/computer_vision/bone_classifier\u001b[39;49m\u001b[38;5;124;43m\"\u001b[39;49m\u001b[43m)\u001b[49m\n",
      "\u001b[0;31mFileNotFoundError\u001b[0m: [Errno 2] No such file or directory: '/Users/abishekkumaryadav/DataScience/computer_vision/bone_classifier'"
     ]
    }
   ],
   "source": [
    "os.chdir(\"Users/abishekkumaryadav/DataScience/computer_vision/\")"
   ]
  },
  {
   "cell_type": "code",
   "execution_count": 34,
   "metadata": {},
   "outputs": [
    {
     "data": {
      "text/plain": [
       "'/Users/abishekkumaryadav/DataScience/computer_vision'"
      ]
     },
     "execution_count": 34,
     "metadata": {},
     "output_type": "execute_result"
    }
   ],
   "source": [
    "os.getcwd()"
   ]
  },
  {
   "cell_type": "code",
   "execution_count": 20,
   "metadata": {},
   "outputs": [],
   "source": [
    "from dataclasses import dataclass\n",
    "from pathlib import Path\n",
    "from src.bone_classifier import log"
   ]
  },
  {
   "cell_type": "code",
   "execution_count": 21,
   "metadata": {},
   "outputs": [],
   "source": [
    "@dataclass(frozen=True)\n",
    "class DataIngestionConfig:\n",
    "    root_dir: Path\n",
    "    data_url: Path\n",
    "    data_zip_path: Path\n",
    "    unzip_dir: Path\n"
   ]
  },
  {
   "cell_type": "code",
   "execution_count": 22,
   "metadata": {},
   "outputs": [],
   "source": [
    "from src.bone_classifier.constants import *\n",
    "from src.bone_classifier.utils.common import read_yaml, create_directories"
   ]
  },
  {
   "cell_type": "code",
   "execution_count": 23,
   "metadata": {},
   "outputs": [],
   "source": [
    "class configurationManager:\n",
    "    def __init__(self,\n",
    "                 params_file_path=PARAMS_FILE_PATH,\n",
    "                 config_file_path= CONFIG_FILE_PATH):\n",
    "        self.config=read_yaml(config_file_path)\n",
    "        self.params=read_yaml(params_file_path)\n",
    "\n",
    "        create_directories([self.config.artifacts_root])\n",
    "\n",
    "    def get_config_file_path(self)->DataIngestionConfig:\n",
    "\n",
    "        config=self.config.data_ingestion\n",
    "\n",
    "        config_file_path=DataIngestionConfig(\n",
    "            root_dir=config.root_dir,\n",
    "            data_url=config.data_url,\n",
    "            data_zip_path=config.data_zip_path,\n",
    "            unzip_dir=config.unzip_dir)\n",
    "        return config_file_path\n",
    "        \n",
    "        \n",
    "\n",
    "        "
   ]
  },
  {
   "cell_type": "code",
   "execution_count": 24,
   "metadata": {},
   "outputs": [],
   "source": [
    "import zipfile\n",
    "import gdown"
   ]
  },
  {
   "cell_type": "code",
   "execution_count": 28,
   "metadata": {},
   "outputs": [],
   "source": [
    "class DataIngestion: \n",
    "    def __init__(self, config: DataIngestionConfig):\n",
    "        self.config=config\n",
    "    def download_data(self):\n",
    "        try: \n",
    "            url=self.config.data_url\n",
    "            url_code=url.split('/')[-2]\n",
    "            data_path=self.config.root_dir\n",
    "            os.makedirs(data_path, exist_ok=True)\n",
    "            perfix_to_download='https://drive.google.com/uc?/export=download&id='+url_code\n",
    "            log.info(f\"Download from url {url} save to path {data_path}\")\n",
    "            gdown.download(perfix_to_download, self.config.data_zip_path)\n",
    "            log.info(f\"Download sucessfully\")\n",
    "\n",
    "        except Exception as e: \n",
    "            raise e\n",
    "        \n",
    "    def unzip_dir(self):\n",
    "        try: \n",
    "            unzip_path=self.config.unzip_dir\n",
    "            with zipfile.ZipFile(self.config.data_zip_path, 'r') as zip:\n",
    "                zip.extractall(unzip_path)\n",
    "        except Exception as e:\n",
    "            raise e\n"
   ]
  },
  {
   "cell_type": "code",
   "execution_count": 29,
   "metadata": {},
   "outputs": [
    {
     "name": "stdout",
     "output_type": "stream",
     "text": [
      "[2024-03-10 19:34:33,835 : INFO : common : yaml file : config/config.yaml loaded sucessfully]\n",
      "[2024-03-10 19:34:33,836 : INFO : common : yaml file : params.yaml loaded sucessfully]\n",
      "[2024-03-10 19:34:33,836 : INFO : common : Created directories at : artifacts]\n"
     ]
    }
   ],
   "source": [
    "# Pipline\n",
    "configmanager=configurationManager()\n",
    "config_file_path=configmanager.get_config_file_path()\n",
    "dataingetion=DataIngestion(config_file_path)\n",
    "# dataingetion.download_data()\n",
    "dataingetion.unzip_dir()"
   ]
  },
  {
   "cell_type": "code",
   "execution_count": 13,
   "metadata": {},
   "outputs": [],
   "source": [
    "data_url=\"https://drive.google.com/file/d/1ey81m--C6Gm8cn8bkUExg2h3e29Vj_ro/view?usp=drive_link\""
   ]
  },
  {
   "cell_type": "code",
   "execution_count": 15,
   "metadata": {},
   "outputs": [
    {
     "data": {
      "text/plain": [
       "'1ey81m--C6Gm8cn8bkUExg2h3e29Vj_ro'"
      ]
     },
     "execution_count": 15,
     "metadata": {},
     "output_type": "execute_result"
    }
   ],
   "source": [
    "data_url.split('/')[-2]"
   ]
  },
  {
   "cell_type": "code",
   "execution_count": null,
   "metadata": {},
   "outputs": [],
   "source": []
  }
 ],
 "metadata": {
  "kernelspec": {
   "display_name": "Python 3",
   "language": "python",
   "name": "python3"
  },
  "language_info": {
   "codemirror_mode": {
    "name": "ipython",
    "version": 3
   },
   "file_extension": ".py",
   "mimetype": "text/x-python",
   "name": "python",
   "nbconvert_exporter": "python",
   "pygments_lexer": "ipython3",
   "version": "3.9.18"
  }
 },
 "nbformat": 4,
 "nbformat_minor": 2
}
